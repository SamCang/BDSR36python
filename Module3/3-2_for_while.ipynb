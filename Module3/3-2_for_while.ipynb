{
 "cells": [
  {
   "cell_type": "markdown",
   "metadata": {},
   "source": [
    "| 用法 | 說明 |\n",
    "|:---:|:---:|\n",
    "| `range(m)` | 走訪 0 到 m-1 的數字 |\n",
    "| `range(n, m)` | 走訪 n 到 m-1 的數字  |\n",
    "| `range(n, m, step)` | 以step為間距，走訪 n 到 m-1 的數字 |"
   ]
  },
  {
   "cell_type": "markdown",
   "metadata": {},
   "source": [
    "##### for"
   ]
  },
  {
   "cell_type": "code",
   "execution_count": 2,
   "metadata": {},
   "outputs": [
    {
     "name": "stdout",
     "output_type": "stream",
     "text": [
      "0,1,2,3,4,"
     ]
    }
   ],
   "source": [
    "# range(m-1)\n",
    "for i in range(5):\n",
    "    print(i, end=\",\")\n"
   ]
  },
  {
   "cell_type": "code",
   "execution_count": 3,
   "metadata": {},
   "outputs": [
    {
     "name": "stdout",
     "output_type": "stream",
     "text": [
      "1隻羊2隻羊3隻羊4隻羊5隻羊6隻羊7隻羊8隻羊9隻羊10隻羊"
     ]
    }
   ],
   "source": [
    "# range(n, m-1)\n",
    "for i in range(1,11):\n",
    "    print(i, end=\"隻羊\")\n"
   ]
  },
  {
   "cell_type": "code",
   "execution_count": 5,
   "metadata": {},
   "outputs": [
    {
     "name": "stdout",
     "output_type": "stream",
     "text": [
      "1隻羊4隻羊7隻羊10隻羊"
     ]
    }
   ],
   "source": [
    "# range(n, m-1, step) 只想要1,3,5,7,9\n",
    "\n",
    "for i in range(1,11,3):\n",
    "    print(i, end=\"隻羊\")\n"
   ]
  },
  {
   "cell_type": "code",
   "execution_count": 7,
   "metadata": {},
   "outputs": [
    {
     "name": "stdout",
     "output_type": "stream",
     "text": [
      "1隻羊3隻羊5隻羊7隻羊9隻羊\n",
      "========================================\n",
      "1隻羊4隻羊7隻羊10隻羊"
     ]
    }
   ],
   "source": [
    "for i in range(1,11,2):\n",
    "    print(i, end=\"隻羊\")\n",
    "print()\n",
    "print(\"==\"*20)\n",
    "for i in range(1,11,3):\n",
    "    print(i, end=\"隻羊\")"
   ]
  },
  {
   "cell_type": "code",
   "execution_count": 8,
   "metadata": {},
   "outputs": [
    {
     "name": "stdout",
     "output_type": "stream",
     "text": [
      "100\n"
     ]
    }
   ],
   "source": [
    "num = 10\n",
    "sum = 0\n",
    "for i in range(num):\n",
    "    sum += num\n",
    "print(sum)"
   ]
  },
  {
   "cell_type": "code",
   "execution_count": null,
   "metadata": {},
   "outputs": [],
   "source": []
  },
  {
   "cell_type": "markdown",
   "metadata": {},
   "source": [
    "### 小試身手 for  \n",
    "請產出 a 開頭的 n 個偶數(含 a 本身)  \n",
    "Ex:  \n",
    "a = 5, n = 3  \n",
    "Output : 6 8 10\n",
    "\n",
    "a = 4, n = 5  \n",
    "Output : 4 6 8 10 12"
   ]
  },
  {
   "cell_type": "code",
   "execution_count": 28,
   "metadata": {},
   "outputs": [
    {
     "name": "stdout",
     "output_type": "stream",
     "text": [
      "6\n",
      "8\n",
      "10\n"
     ]
    }
   ],
   "source": [
    "a = 5\n",
    "n = 3\n",
    "\n",
    "for i in range(n):\n",
    "    if a % 2 ==0:\n",
    "        print(a+2*i)\n",
    "    else:\n",
    "        print(a+1+2*i)    "
   ]
  },
  {
   "cell_type": "code",
   "execution_count": 30,
   "metadata": {},
   "outputs": [
    {
     "name": "stdout",
     "output_type": "stream",
     "text": [
      "6, 8, 10, "
     ]
    }
   ],
   "source": [
    "a = 5\n",
    "n = 3\n",
    "if a % 2  != 0:\n",
    "    a +=1\n",
    "\n",
    "for i in range(n):\n",
    "        print(a+i*2,end=\", \")    "
   ]
  },
  {
   "cell_type": "code",
   "execution_count": 33,
   "metadata": {},
   "outputs": [
    {
     "name": "stdout",
     "output_type": "stream",
     "text": [
      "      \n",
      "     * \n",
      "    * * \n",
      "   * * * \n",
      "  * * * * \n",
      " * * * * * \n",
      " * * * * * \n",
      "  * * * * \n",
      "   * * * \n",
      "    * * \n",
      "     * \n",
      "      \n"
     ]
    }
   ],
   "source": [
    "# 嘗試產出\n",
    "\"\"\"\n",
    "* * * * *\n",
    " * * * *\n",
    "  * * *\n",
    "   * *\n",
    "    *\n",
    "\"\"\"\n",
    "\n",
    "\n",
    "\n",
    "# 嘗試產出\n",
    "\"\"\"\n",
    "    *\n",
    "   * *\n",
    "  * * *\n",
    " * * * *\n",
    "* * * * *\n",
    "\"\"\"\n",
    "for i in range(6):\n",
    "    print((5-i)*\" \", i * \"* \")\n",
    "\n",
    "for i in range(6):\n",
    "    print((i)*\" \", (5-i) * \"* \")\n"
   ]
  },
  {
   "cell_type": "code",
   "execution_count": 32,
   "metadata": {},
   "outputs": [
    {
     "name": "stdout",
     "output_type": "stream",
     "text": [
      " * * * * * \n",
      "  * * * * \n",
      "   * * * \n",
      "    * * \n",
      "     * \n",
      "      \n"
     ]
    }
   ],
   "source": [
    "for i in range(6):\n",
    "    print((i)*\" \", (5-i) * \"* \")"
   ]
  },
  {
   "cell_type": "markdown",
   "metadata": {},
   "source": [
    "-----\n",
    "##### while"
   ]
  },
  {
   "cell_type": "code",
   "execution_count": 35,
   "metadata": {},
   "outputs": [
    {
     "name": "stdout",
     "output_type": "stream",
     "text": [
      "1, 2, 3, 4, "
     ]
    }
   ],
   "source": [
    "count = 1\n",
    "\n",
    "while count < 5:\n",
    "    print(count, end=\", \")\n",
    "    count += 1\n",
    "\n"
   ]
  }
 ],
 "metadata": {
  "kernelspec": {
   "display_name": "Python 3",
   "language": "python",
   "name": "python3"
  },
  "language_info": {
   "codemirror_mode": {
    "name": "ipython",
    "version": 3
   },
   "file_extension": ".py",
   "mimetype": "text/x-python",
   "name": "python",
   "nbconvert_exporter": "python",
   "pygments_lexer": "ipython3",
   "version": "3.13.0"
  }
 },
 "nbformat": 4,
 "nbformat_minor": 2
}
