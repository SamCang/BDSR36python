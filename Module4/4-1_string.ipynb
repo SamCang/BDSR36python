{
 "cells": [
  {
   "cell_type": "markdown",
   "metadata": {},
   "source": [
    "|string方法| 功能 |\n",
    "|:---:|:---:|\n",
    "| | 替換字串 |\n",
    "| | 去除兩側空格 |\n",
    "| | 字串小寫變大寫 |\n",
    "| | 字串大寫變小寫 |"
   ]
  },
  {
   "cell_type": "code",
   "execution_count": null,
   "metadata": {},
   "outputs": [
    {
     "name": "stdout",
     "output_type": "stream",
     "text": [
      "Good Morning\n",
      "1963382552304\n",
      "Good Night\n",
      "1963404553264\n"
     ]
    }
   ],
   "source": [
    "# 字串變數初始化\n",
    "message = \"Good Morning\"\n",
    "print(message)\n",
    "print(id(message))\n",
    "message = \"Good Night\"\n",
    "print(message)\n",
    "print(id(message))  #重新覆值 位置已改變\n",
    "\n"
   ]
  },
  {
   "cell_type": "code",
   "execution_count": null,
   "metadata": {},
   "outputs": [
    {
     "name": "stdout",
     "output_type": "stream",
     "text": [
      "Good Morning\n",
      "1963404502896\n",
      "Good Night\n",
      "1963404648048\n"
     ]
    }
   ],
   "source": [
    "# 替換字串\n",
    "'''\n",
    "string.replace(<str1>, <str2>)\n",
    "將 string 中的 str1 替換成 str2\n",
    "'''\n",
    "message = \"Good Morning\"\n",
    "print(message)\n",
    "print(id(message))\n",
    "new_message = message.replace(\"Good Morning\",\"Good Night\")  #因為string 是return值,所以要用變數去接\n",
    "\n",
    "print(new_message)\n",
    "print(id(new_message)) \n",
    "\n",
    "\n"
   ]
  },
  {
   "cell_type": "code",
   "execution_count": 10,
   "metadata": {},
   "outputs": [
    {
     "name": "stdout",
     "output_type": "stream",
     "text": [
      "____CCC\n",
      "    ____CCC\n",
      "____CCC    \n"
     ]
    }
   ],
   "source": [
    "# 去除兩側空格\n",
    "'''\n",
    "\n",
    "去除字串 string 左、右兩邊的空格\n",
    "'''\n",
    "string01 = \"    ____CCC    \"\n",
    "new_string01 = string01.strip()\n",
    "print(new_string01)\n",
    "\n",
    "#new_string01 = string01.rstrip() 去除右邊空白\n",
    "#new_string01 = string01.lstrip() 去除左邊空白\n",
    "new_string02 = string01.rstrip()\n",
    "new_string03 = string01.lstrip()\n",
    "print(new_string02)\n",
    "print(new_string03)"
   ]
  },
  {
   "cell_type": "code",
   "execution_count": null,
   "metadata": {},
   "outputs": [],
   "source": [
    "# 字串小寫變大寫\n",
    "'''\n",
    "\n",
    "將字串 string 裡的字母全部改成小寫\n",
    "'''\n",
    "\n",
    "\n",
    "\n",
    "'''\n",
    "\n",
    "將字串 string 裡的字母全部改成大寫\n",
    "'''\n"
   ]
  },
  {
   "cell_type": "code",
   "execution_count": 11,
   "metadata": {},
   "outputs": [
    {
     "name": "stdout",
     "output_type": "stream",
     "text": [
      "['hello', 'world!', 'hello', 'John']\n"
     ]
    }
   ],
   "source": [
    "# 字串分割成 list\n",
    "greeting = \"hello world! hello John\"\n",
    "str_list = greeting.split(\" \")\n",
    "\n",
    "print(str_list)"
   ]
  }
 ],
 "metadata": {
  "kernelspec": {
   "display_name": "Python 3",
   "language": "python",
   "name": "python3"
  },
  "language_info": {
   "codemirror_mode": {
    "name": "ipython",
    "version": 3
   },
   "file_extension": ".py",
   "mimetype": "text/x-python",
   "name": "python",
   "nbconvert_exporter": "python",
   "pygments_lexer": "ipython3",
   "version": "3.13.0"
  }
 },
 "nbformat": 4,
 "nbformat_minor": 2
}
