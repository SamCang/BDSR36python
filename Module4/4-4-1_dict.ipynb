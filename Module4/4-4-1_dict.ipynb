{
 "cells": [
  {
   "cell_type": "code",
   "execution_count": 2,
   "metadata": {},
   "outputs": [
    {
     "name": "stdout",
     "output_type": "stream",
     "text": [
      "{'apple': 100, 'orange': 50, 'tomato': 20}\n"
     ]
    }
   ],
   "source": [
    "# 初始化 dict\n",
    "fruit_price_dict = {\"apple\": 100, \"orange\": 50, \"tomato\": 20}\n",
    "print(fruit_price_dict)"
   ]
  },
  {
   "cell_type": "code",
   "execution_count": 4,
   "metadata": {},
   "outputs": [
    {
     "name": "stdout",
     "output_type": "stream",
     "text": [
      "{'apple': 100, 'orange': 50, 'tomato': 20}\n"
     ]
    }
   ],
   "source": [
    "# 建議的寫法\n",
    "fruit_price_dict = {\n",
    "    \"apple\": 100,\n",
    "    \"orange\": 50, \n",
    "    \"tomato\": 20\n",
    "    }\n",
    "print(fruit_price_dict)"
   ]
  },
  {
   "cell_type": "code",
   "execution_count": 5,
   "metadata": {},
   "outputs": [
    {
     "name": "stdout",
     "output_type": "stream",
     "text": [
      "100\n"
     ]
    }
   ],
   "source": [
    "# 印出 蘋果的價格\n",
    "print(fruit_price_dict[\"apple\"])\n"
   ]
  },
  {
   "cell_type": "code",
   "execution_count": 6,
   "metadata": {},
   "outputs": [
    {
     "name": "stdout",
     "output_type": "stream",
     "text": [
      "{'apple': 100, 'orange': 70, 'tomato': 20}\n"
     ]
    }
   ],
   "source": [
    "# 修改 橘子的價格\n",
    "fruit_price_dict[\"orange\"] = 70\n",
    "print(fruit_price_dict)"
   ]
  },
  {
   "cell_type": "code",
   "execution_count": 7,
   "metadata": {},
   "outputs": [
    {
     "name": "stdout",
     "output_type": "stream",
     "text": [
      "{'apple': 100, 'orange': 70}\n"
     ]
    }
   ],
   "source": [
    "# 刪除 番茄\n",
    "del fruit_price_dict[\"tomato\"]\n",
    "print(fruit_price_dict)"
   ]
  },
  {
   "cell_type": "code",
   "execution_count": 8,
   "metadata": {},
   "outputs": [
    {
     "name": "stdout",
     "output_type": "stream",
     "text": [
      "{'apple': 100, 'orange': 70, 'kiwi': 150}\n"
     ]
    }
   ],
   "source": [
    "# 新增 key\n",
    "fruit_price_dict[\"kiwi\"] = 150\n",
    "print(fruit_price_dict)"
   ]
  },
  {
   "cell_type": "code",
   "execution_count": 9,
   "metadata": {},
   "outputs": [
    {
     "name": "stdout",
     "output_type": "stream",
     "text": [
      "{'name': 'Jarvis', 'age': 20, 'info': {'nickname': 'boatman', 'role': 'ironman', 'phone_num': ['0912345678', '0922345678']}}\n"
     ]
    }
   ],
   "source": [
    "# 建立一個 value 含有 dict 的 dict\n",
    "person_info_dict = {\"name\": \"Jarvis\"}\n",
    "person_info_dict[\"age\"] = 20\n",
    "person_info_dict[\"info\"] = {\n",
    "    \"nickname\": \"boatman\",\n",
    "    \"role\": \"ironman\",\n",
    "    \"phone_num\": [\"0912345678\", \"0922345678\"]\n",
    "}\n",
    "\n",
    "print(person_info_dict)"
   ]
  },
  {
   "cell_type": "code",
   "execution_count": 10,
   "metadata": {},
   "outputs": [
    {
     "name": "stdout",
     "output_type": "stream",
     "text": [
      "{'age': 20,\n",
      " 'info': {'nickname': 'boatman',\n",
      "          'phone_num': ['0912345678', '0922345678'],\n",
      "          'role': 'ironman'},\n",
      " 'name': 'Jarvis'}\n"
     ]
    }
   ],
   "source": [
    "from pprint import pprint\n",
    "pprint(person_info_dict)"
   ]
  },
  {
   "cell_type": "code",
   "execution_count": 12,
   "metadata": {},
   "outputs": [
    {
     "name": "stdout",
     "output_type": "stream",
     "text": [
      "{'nickname': 'boatman', 'role': 'ironman', 'phone_num': ['0912345678', '0922345678']}\n",
      "boatman\n"
     ]
    }
   ],
   "source": [
    "# 取得 nickname\n",
    "print(person_info_dict[\"info\"])\n",
    "print(person_info_dict[\"info\"][\"nickname\"])\n"
   ]
  },
  {
   "cell_type": "code",
   "execution_count": 14,
   "metadata": {},
   "outputs": [
    {
     "name": "stdout",
     "output_type": "stream",
     "text": [
      "電話號碼-1: 0912345678\n",
      "電話號碼-2: 0922345678\n"
     ]
    }
   ],
   "source": [
    "# 取得所有 phone_number\n",
    "cnt = 0\n",
    "for phone_num in person_info_dict[\"info\"][\"phone_num\"]:\n",
    "    cnt += 1\n",
    "    print(f\"電話號碼-{cnt}: {phone_num}\")\n"
   ]
  },
  {
   "cell_type": "markdown",
   "metadata": {},
   "source": [
    "---"
   ]
  },
  {
   "cell_type": "code",
   "execution_count": 15,
   "metadata": {},
   "outputs": [],
   "source": [
    "'''\n",
    "改寫 fruit_dict 每個水果需要 price, quantity/amount, color\n",
    "apple 有 綠色 和 紅色\n",
    "orange 有 橘色\n",
    "tomato 有 紅色\n",
    "'''\n",
    "fruit_dict = {\n",
    "    \"apple\": {\n",
    "        \"price\": 30,\n",
    "        \"quantity\": 100,\n",
    "        \"color\": [\"green\", \"red\"]\n",
    "    },\n",
    "    \"orange\": {\n",
    "        \"price\": 100,\n",
    "        \"quantity\": 20,\n",
    "        \"color\": [\"orange\"]\n",
    "    },\n",
    "}\n",
    "\n",
    "fruit_dict2 = {\n",
    "    \"tomato\": {\n",
    "            \"price\": 100,\n",
    "            \"quantity\": 50,\n",
    "            \"color\": [\"red\"]\n",
    "        },\n",
    "    }"
   ]
  },
  {
   "cell_type": "markdown",
   "metadata": {},
   "source": [
    "##### dict 的合併"
   ]
  },
  {
   "cell_type": "code",
   "execution_count": 17,
   "metadata": {},
   "outputs": [
    {
     "name": "stdout",
     "output_type": "stream",
     "text": [
      "{'apple': {'color': ['green', 'red'], 'price': 30, 'quantity': 100},\n",
      " 'orange': {'color': ['orange'], 'price': 100, 'quantity': 20},\n",
      " 'tomato': {'color': ['red'], 'price': 100, 'quantity': 50}}\n"
     ]
    }
   ],
   "source": [
    "# dict 的合併\n",
    "fruit_dict.update(fruit_dict2)\n",
    "pprint(fruit_dict)"
   ]
  },
  {
   "cell_type": "code",
   "execution_count": 18,
   "metadata": {},
   "outputs": [
    {
     "name": "stdout",
     "output_type": "stream",
     "text": [
      "{'apple': {'color': ['green', 'red', 'yellow'], 'price': 30, 'quantity': 100},\n",
      " 'orange': {'color': ['orange'], 'price': 100, 'quantity': 20},\n",
      " 'tomato': {'color': ['red'], 'price': 100, 'quantity': 50}}\n"
     ]
    }
   ],
   "source": [
    "'''\n",
    "新增顏色\n",
    "apple 有新的品種 顏色要有黃色\n",
    "tomato 有綠色\n",
    "'''\n",
    "fruit_dict[\"apple\"][\"color\"].append(\"yellow\")\n",
    "pprint(fruit_dict)"
   ]
  },
  {
   "cell_type": "code",
   "execution_count": 19,
   "metadata": {},
   "outputs": [
    {
     "name": "stdout",
     "output_type": "stream",
     "text": [
      "{'apple': {'color': ['green', 'red', 'yellow'], 'price': 30, 'quantity': 100},\n",
      " 'orange': {'color': ['orange'], 'price': 100, 'quantity': 20},\n",
      " 'tomato': {'color': ['red', 'green'], 'price': 100, 'quantity': 50}}\n"
     ]
    }
   ],
   "source": [
    "fruit_dict[\"tomato\"][\"color\"].append(\"green\")\n",
    "pprint(fruit_dict)"
   ]
  }
 ],
 "metadata": {
  "kernelspec": {
   "display_name": "Python 3",
   "language": "python",
   "name": "python3"
  },
  "language_info": {
   "codemirror_mode": {
    "name": "ipython",
    "version": 3
   },
   "file_extension": ".py",
   "mimetype": "text/x-python",
   "name": "python",
   "nbconvert_exporter": "python",
   "pygments_lexer": "ipython3",
   "version": "3.13.0"
  }
 },
 "nbformat": 4,
 "nbformat_minor": 2
}
