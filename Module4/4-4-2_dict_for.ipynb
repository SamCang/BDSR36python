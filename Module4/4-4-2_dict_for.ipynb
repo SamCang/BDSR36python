{
 "cells": [
  {
   "cell_type": "code",
   "execution_count": 12,
   "metadata": {},
   "outputs": [
    {
     "name": "stdout",
     "output_type": "stream",
     "text": [
      "{'apple': {'price': 100, 'quantity': 50, 'color': ['greem', 'red']}, 'orange': {'price': 50, 'quantity': 30, 'color': ['orange']}}\n"
     ]
    }
   ],
   "source": [
    "fruit_dict = {    \n",
    "    'apple': {\n",
    "        'price': 100,\n",
    "        'quantity': 50,\n",
    "        'color': ['greem', 'red']\n",
    "    },\n",
    "    'orange': {\n",
    "        'price': 50,\n",
    "        'quantity': 30,\n",
    "        # 'color': 'orange' # 錯誤的寫法\n",
    "        \"color\": [\"orange\"]\n",
    "    }\n",
    "}\n",
    "print(fruit_dict)"
   ]
  },
  {
   "cell_type": "code",
   "execution_count": 2,
   "metadata": {},
   "outputs": [
    {
     "name": "stdout",
     "output_type": "stream",
     "text": [
      "apple\n",
      "orange\n"
     ]
    }
   ],
   "source": [
    "# 使用 for 迴圈讀取 dict 資料1 \n",
    "for key in fruit_dict: # 只會取得所有 Key\n",
    "    print(key)"
   ]
  },
  {
   "cell_type": "code",
   "execution_count": 5,
   "metadata": {},
   "outputs": [
    {
     "name": "stdout",
     "output_type": "stream",
     "text": [
      "{'price': 100, 'quantity': 50, 'color': ['greem', 'red']}\n",
      "{'price': 50, 'quantity': 30, 'color': 'orange'}\n"
     ]
    }
   ],
   "source": [
    "# 使用 for 迴圈讀取 dict 資料2\n",
    "for info in fruit_dict.values(): # 取得所有的 value\n",
    "    print(info)"
   ]
  },
  {
   "cell_type": "code",
   "execution_count": 7,
   "metadata": {},
   "outputs": [
    {
     "name": "stdout",
     "output_type": "stream",
     "text": [
      "apple\n",
      "{'price': 100, 'quantity': 50, 'color': ['greem', 'red']}\n",
      "orange\n",
      "{'price': 50, 'quantity': 30, 'color': 'orange'}\n"
     ]
    }
   ],
   "source": [
    "# 使用 for 迴圈讀取 dict 資料3\n",
    "for key, value in fruit_dict.items():\n",
    "    print(key)\n",
    "    print(value)"
   ]
  },
  {
   "cell_type": "code",
   "execution_count": 13,
   "metadata": {},
   "outputs": [
    {
     "name": "stdout",
     "output_type": "stream",
     "text": [
      "greem\n",
      "red\n",
      "orange\n"
     ]
    }
   ],
   "source": [
    "for key, value in fruit_dict.items():\n",
    "    # print(key)\n",
    "    # print(value[\"color\"])\n",
    "    for color in value[\"color\"]:\n",
    "        print(color)"
   ]
  },
  {
   "cell_type": "code",
   "execution_count": 17,
   "metadata": {},
   "outputs": [
    {
     "name": "stdout",
     "output_type": "stream",
     "text": [
      "{'apple': {'color': ['greem', 'red'], 'price': 100, 'quantity': 50},\n",
      " 'orange': {'color': ['orange'], 'price': 50, 'quantity': 30}}\n"
     ]
    }
   ],
   "source": [
    "from pprint import pprint\n",
    "pprint(fruit_dict)"
   ]
  },
  {
   "cell_type": "code",
   "execution_count": 20,
   "metadata": {},
   "outputs": [
    {
     "name": "stdout",
     "output_type": "stream",
     "text": [
      "None\n",
      "{'price': 100, 'quantity': 50, 'color': ['greem', 'red']}\n"
     ]
    }
   ],
   "source": [
    "# 取得 dict 的 value\n",
    "\n",
    "# print(fruit_dict[\"kiwi\"])\n",
    "print(fruit_dict.get(\"kiwi\"))\n",
    "print(fruit_dict.get(\"apple\"))\n",
    "# print(fruit_dict[\"apple\"])"
   ]
  },
  {
   "cell_type": "code",
   "execution_count": null,
   "metadata": {},
   "outputs": [],
   "source": [
    "# 資料處理\n",
    "fruit_color_list = [\n",
    "    {'apple': 'red'}, \n",
    "    {'grape': 'purple'}, \n",
    "    {'kiwi': 'yellow'}, \n",
    "    {'apple': 'green'}, \n",
    "    {'kiwi': 'green'}, \n",
    "    {'grape': 'green'}\n",
    "]\n"
   ]
  },
  {
   "cell_type": "code",
   "execution_count": 27,
   "metadata": {},
   "outputs": [
    {
     "name": "stdout",
     "output_type": "stream",
     "text": [
      "apple red\n",
      "grape purple\n",
      "kiwi yellow\n",
      "apple green\n",
      "kiwi green\n",
      "grape green\n",
      "{'apple': ['red', 'green'], 'grape': ['purple', 'green'], 'kiwi': ['yellow', 'green']}\n"
     ]
    }
   ],
   "source": [
    "# 將資料整理成 {'apple': ['red', 'green'], 'grape': ['purple', 'green'], 'kiwi': ['yellow', 'green']}\n",
    "\"\"\"\n",
    "{\n",
    "    'apple': ['red', 'green'], \n",
    "    'grape': ['purple', 'green'], \n",
    "    'kiwi': ['yellow', 'green']\n",
    "}\n",
    "\"\"\"\n",
    "color_dict = {}\n",
    "for fruit_color in fruit_color_list:\n",
    "    for fruit, color in fruit_color.items():\n",
    "        print(fruit, color)\n",
    "        if color_dict.get(fruit) == None:\n",
    "            color_dict[fruit] = [color]\n",
    "        else:\n",
    "            color_dict[fruit].append(color)\n",
    "\n",
    "print(color_dict)"
   ]
  },
  {
   "cell_type": "markdown",
   "metadata": {},
   "source": [
    "##### `defaultdict(<type>)`"
   ]
  },
  {
   "cell_type": "code",
   "execution_count": 30,
   "metadata": {},
   "outputs": [],
   "source": [
    "# 資料處理\n",
    "fruit_color_list = [\n",
    "    {'apple': 'red'}, \n",
    "    {'grape': 'purple'}, \n",
    "    {'kiwi': 'yellow'}, \n",
    "    {'apple': 'green'}, \n",
    "    {'kiwi': 'green'}, \n",
    "    {'grape': 'green'}\n",
    "]"
   ]
  },
  {
   "cell_type": "code",
   "execution_count": 33,
   "metadata": {},
   "outputs": [
    {
     "name": "stdout",
     "output_type": "stream",
     "text": [
      "defaultdict(<class 'list'>, {'apple': ['red', 'green'], 'grape': ['purple', 'green'], 'kiwi': ['yellow', 'green']})\n"
     ]
    }
   ],
   "source": [
    "from collections import defaultdict\n",
    "# 當訪問的鍵不存在時，可以自動創建鍵和預設值，而不是拋出KeyError。\n",
    "color_dict = defaultdict(list)\n",
    "\n",
    "# print(color_dict[\"apple\"])\n",
    "# print(color_dict)\n",
    "\n",
    "for fruit_dict in fruit_color_list:\n",
    "    for fruit, color in fruit_dict.items():\n",
    "        color_dict[fruit].append(color)\n",
    "\n",
    "print(color_dict)"
   ]
  },
  {
   "cell_type": "code",
   "execution_count": null,
   "metadata": {},
   "outputs": [],
   "source": []
  }
 ],
 "metadata": {
  "kernelspec": {
   "display_name": "Python 3",
   "language": "python",
   "name": "python3"
  },
  "language_info": {
   "codemirror_mode": {
    "name": "ipython",
    "version": 3
   },
   "file_extension": ".py",
   "mimetype": "text/x-python",
   "name": "python",
   "nbconvert_exporter": "python",
   "pygments_lexer": "ipython3",
   "version": "3.13.0"
  }
 },
 "nbformat": 4,
 "nbformat_minor": 2
}
