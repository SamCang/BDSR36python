{
 "cells": [
  {
   "cell_type": "markdown",
   "metadata": {},
   "source": [
    "##### try...except..."
   ]
  },
  {
   "cell_type": "code",
   "execution_count": 15,
   "metadata": {},
   "outputs": [
    {
     "name": "stdout",
     "output_type": "stream",
     "text": [
      "Exception: list index out of range\n",
      "100\n"
     ]
    }
   ],
   "source": [
    "# 可以連續定義數個例外處理機制\n",
    "# 最符合的例外事件類別會先拋出\n",
    "try:\n",
    "    num_list = [1, 2, 3]\n",
    "    print(num_list[5])\n",
    "\n",
    "    print(x)\n",
    "except Exception as e:\n",
    "    print(f\"Exception: {e}\")\n",
    "except IndexError:\n",
    "    print(\"發生 Index 錯誤\")\n",
    "except NameError:\n",
    "    print(\"發生 Name 錯誤\")\n",
    "    x = 100\n",
    "except:\n",
    "    print(\"\")\n",
    "\n",
    "\n",
    "print(x)\n",
    "# print(\"OK\")"
   ]
  },
  {
   "cell_type": "code",
   "execution_count": 16,
   "metadata": {},
   "outputs": [
    {
     "ename": "IndexError",
     "evalue": "list index out of range",
     "output_type": "error",
     "traceback": [
      "\u001b[1;31m---------------------------------------------------------------------------\u001b[0m",
      "\u001b[1;31mIndexError\u001b[0m                                Traceback (most recent call last)",
      "Cell \u001b[1;32mIn[16], line 2\u001b[0m\n\u001b[0;32m      1\u001b[0m \u001b[38;5;66;03m# 多層例外處理:\u001b[39;00m\n\u001b[1;32m----> 2\u001b[0m \u001b[38;5;28mprint\u001b[39m(\u001b[43mnum_list\u001b[49m\u001b[43m[\u001b[49m\u001b[38;5;241;43m10\u001b[39;49m\u001b[43m]\u001b[49m)\n",
      "\u001b[1;31mIndexError\u001b[0m: list index out of range"
     ]
    }
   ],
   "source": [
    "# 多層例外處理:\n",
    "print(num_list[10])\n"
   ]
  },
  {
   "cell_type": "markdown",
   "metadata": {},
   "source": [
    "##### try...except...else...finally"
   ]
  },
  {
   "cell_type": "code",
   "execution_count": 22,
   "metadata": {},
   "outputs": [
    {
     "name": "stdout",
     "output_type": "stream",
     "text": [
      "1. x 一開始是: 5\n",
      "2.變數尚未宣告\n",
      "4.程式結束\n"
     ]
    }
   ],
   "source": [
    "# 如果沒有錯誤，就會執行 else 程式區塊\n",
    "# finally 程式區塊是無論有無錯誤，都會執行\n",
    "\n",
    "try:\n",
    "    x = 5\n",
    "    print(f\"1. x 一開始是: {x}\")\n",
    "    print(z)\n",
    "\n",
    "\n",
    "except NameError:\n",
    "    print(\"2.變數尚未宣告\")\n",
    "\n",
    "else:\n",
    "    x += 5\n",
    "    print(\"3.沒有例外發生才會執行\")\n",
    "\n",
    "finally:\n",
    "    # print(f\"Finally x:{x}\")\n",
    "    print(\"4.程式結束\")\n"
   ]
  }
 ],
 "metadata": {
  "kernelspec": {
   "display_name": "Python 3",
   "language": "python",
   "name": "python3"
  },
  "language_info": {
   "codemirror_mode": {
    "name": "ipython",
    "version": 3
   },
   "file_extension": ".py",
   "mimetype": "text/x-python",
   "name": "python",
   "nbconvert_exporter": "python",
   "pygments_lexer": "ipython3",
   "version": "3.13.0"
  }
 },
 "nbformat": 4,
 "nbformat_minor": 2
}
