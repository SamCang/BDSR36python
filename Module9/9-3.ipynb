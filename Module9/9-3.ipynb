{
 "cells": [
  {
   "cell_type": "code",
   "execution_count": 7,
   "metadata": {},
   "outputs": [
    {
     "name": "stdout",
     "output_type": "stream",
     "text": [
      "Jarvis, age: 30\n"
     ]
    }
   ],
   "source": [
    "def get_name(name: str, age: int) -> str:\n",
    "    return f\"{name}, age: {age}\"\n",
    "\n",
    "result = get_name(name=\"Jarvis\", age=30)\n",
    "print(result)"
   ]
  },
  {
   "cell_type": "code",
   "execution_count": 11,
   "metadata": {},
   "outputs": [
    {
     "name": "stdout",
     "output_type": "stream",
     "text": [
      "(1, 2, 3, 4, 5)\n",
      "{'num1': 100, 'num2': 200}\n"
     ]
    },
    {
     "data": {
      "text/plain": [
       "315"
      ]
     },
     "execution_count": 11,
     "metadata": {},
     "output_type": "execute_result"
    }
   ],
   "source": [
    "def add_all_nums(*args, **kwargs):\n",
    "\n",
    "    print(args)\n",
    "    print(kwargs)\n",
    "    sum = 0\n",
    "    for i in args:\n",
    "        sum += i\n",
    "\n",
    "    for value in kwargs.values():\n",
    "        sum += value\n",
    "\n",
    "    return sum\n",
    "add_all_nums(1, 2, 3, 4, 5, num1=100, num2=200)"
   ]
  }
 ],
 "metadata": {
  "kernelspec": {
   "display_name": "Python 3",
   "language": "python",
   "name": "python3"
  },
  "language_info": {
   "codemirror_mode": {
    "name": "ipython",
    "version": 3
   },
   "file_extension": ".py",
   "mimetype": "text/x-python",
   "name": "python",
   "nbconvert_exporter": "python",
   "pygments_lexer": "ipython3",
   "version": "3.13.0"
  }
 },
 "nbformat": 4,
 "nbformat_minor": 2
}
